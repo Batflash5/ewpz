{
 "cells": [
  {
   "cell_type": "code",
   "execution_count": 3,
   "metadata": {},
   "outputs": [
    {
     "data": {
      "text/html": [
       "<div>\n",
       "<style scoped>\n",
       "    .dataframe tbody tr th:only-of-type {\n",
       "        vertical-align: middle;\n",
       "    }\n",
       "\n",
       "    .dataframe tbody tr th {\n",
       "        vertical-align: top;\n",
       "    }\n",
       "\n",
       "    .dataframe thead th {\n",
       "        text-align: right;\n",
       "    }\n",
       "</style>\n",
       "<table border=\"1\" class=\"dataframe\">\n",
       "  <thead>\n",
       "    <tr style=\"text-align: right;\">\n",
       "      <th></th>\n",
       "      <th>Label</th>\n",
       "      <th>Description</th>\n",
       "    </tr>\n",
       "  </thead>\n",
       "  <tbody>\n",
       "    <tr>\n",
       "      <th>0</th>\n",
       "      <td>Severe</td>\n",
       "      <td>1919 July 21 The Goodyear dirigible Wingfoot A...</td>\n",
       "    </tr>\n",
       "    <tr>\n",
       "      <th>1</th>\n",
       "      <td>Severe</td>\n",
       "      <td>1919 August 2 A Caproni Ca.48 crashes at Veron...</td>\n",
       "    </tr>\n",
       "    <tr>\n",
       "      <th>2</th>\n",
       "      <td>Severe</td>\n",
       "      <td>1920 December 14 A Handley Page O/400 hits a t...</td>\n",
       "    </tr>\n",
       "    <tr>\n",
       "      <th>3</th>\n",
       "      <td>Severe</td>\n",
       "      <td>1922 March 31 A Beijing-Han Airlines Handley P...</td>\n",
       "    </tr>\n",
       "    <tr>\n",
       "      <th>4</th>\n",
       "      <td>Severe</td>\n",
       "      <td>1922 April 7 In the Picardie mid-air collision...</td>\n",
       "    </tr>\n",
       "    <tr>\n",
       "      <th>...</th>\n",
       "      <td>...</td>\n",
       "      <td>...</td>\n",
       "    </tr>\n",
       "    <tr>\n",
       "      <th>975</th>\n",
       "      <td>Severe</td>\n",
       "      <td>1999 December 11 SATA Air Açores Flight 530M, ...</td>\n",
       "    </tr>\n",
       "    <tr>\n",
       "      <th>976</th>\n",
       "      <td>Severe</td>\n",
       "      <td>1999 December 21 Cubana de Aviación Flight 121...</td>\n",
       "    </tr>\n",
       "    <tr>\n",
       "      <th>977</th>\n",
       "      <td>Not Severe</td>\n",
       "      <td>1999 December 22 Korean Air Cargo Flight 8509,...</td>\n",
       "    </tr>\n",
       "    <tr>\n",
       "      <th>978</th>\n",
       "      <td>Not Severe</td>\n",
       "      <td>1999 December 24 Indian Airlines Flight 814, a...</td>\n",
       "    </tr>\n",
       "    <tr>\n",
       "      <th>979</th>\n",
       "      <td>Severe</td>\n",
       "      <td>1999 December 25 Cubana de Aviación Flight 310...</td>\n",
       "    </tr>\n",
       "  </tbody>\n",
       "</table>\n",
       "<p>980 rows × 2 columns</p>\n",
       "</div>"
      ],
      "text/plain": [
       "          Label                                        Description\n",
       "0        Severe  1919 July 21 The Goodyear dirigible Wingfoot A...\n",
       "1        Severe  1919 August 2 A Caproni Ca.48 crashes at Veron...\n",
       "2        Severe  1920 December 14 A Handley Page O/400 hits a t...\n",
       "3        Severe  1922 March 31 A Beijing-Han Airlines Handley P...\n",
       "4        Severe  1922 April 7 In the Picardie mid-air collision...\n",
       "..          ...                                                ...\n",
       "975      Severe  1999 December 11 SATA Air Açores Flight 530M, ...\n",
       "976      Severe  1999 December 21 Cubana de Aviación Flight 121...\n",
       "977  Not Severe  1999 December 22 Korean Air Cargo Flight 8509,...\n",
       "978  Not Severe  1999 December 24 Indian Airlines Flight 814, a...\n",
       "979      Severe  1999 December 25 Cubana de Aviación Flight 310...\n",
       "\n",
       "[980 rows x 2 columns]"
      ]
     },
     "execution_count": 3,
     "metadata": {},
     "output_type": "execute_result"
    }
   ],
   "source": [
    "import pandas as pd\n",
    "\n",
    "ds=pd.read_excel('Labelled Crashes.xlsx')\n",
    "emp=[]\n",
    "ds.dropna(inplace=True)\n",
    "\n",
    "for i,j,k in ds.itertuples():\n",
    "    if k.isspace():\n",
    "        emp.append(i)\n",
    "        \n",
    "ds.drop(emp,inplace=True)\n",
    "X=ds['Description']\n",
    "y=ds['Label']\n",
    "\n",
    "ds"
   ]
  },
  {
   "cell_type": "code",
   "execution_count": 4,
   "metadata": {},
   "outputs": [],
   "source": [
    "from sklearn.model_selection import train_test_split\n",
    "\n",
    "X_train,X_test,y_train,y_test=train_test_split(X,y,test_size=0.33,random_state=5)\n",
    "\n",
    "\n",
    "from sklearn.feature_extraction.text import TfidfVectorizer\n",
    "from sklearn.svm import LinearSVC\n",
    "from sklearn.pipeline import Pipeline\n",
    "\n",
    "\n",
    "ppl=Pipeline([('tfidf',TfidfVectorizer()),('lsvc',LinearSVC())])\n",
    "ppl.fit(X_train,y_train)\n",
    "predictions=ppl.predict(X_test)"
   ]
  },
  {
   "cell_type": "code",
   "execution_count": 6,
   "metadata": {},
   "outputs": [
    {
     "name": "stdout",
     "output_type": "stream",
     "text": [
      "[[ 23  29]\n",
      " [  7 265]]\n",
      "0.8888888888888888\n",
      "The Crash is Not Severe\n"
     ]
    }
   ],
   "source": [
    "import sklearn.metrics as metrics\n",
    "\n",
    "print(metrics.confusion_matrix(y_test,predictions))\n",
    "print(metrics.accuracy_score(y_test,predictions))\n",
    "\n",
    "samp=ppl.predict(['June 27 – Angara Airlines Flight 200, an Antonov An-24 operating a domestic flight in Russia, suffers an in-flight engine failure and lands at Nizhneangarsk Airport where it overshoots the runway and crashes into a building; all 43 passengers survive but two of the four crew members are killed.'])\n",
    "print(f'The Crash is {samp[0]}')"
   ]
  }
 ],
 "metadata": {
  "kernelspec": {
   "display_name": "Python 3",
   "language": "python",
   "name": "python3"
  },
  "language_info": {
   "codemirror_mode": {
    "name": "ipython",
    "version": 3
   },
   "file_extension": ".py",
   "mimetype": "text/x-python",
   "name": "python",
   "nbconvert_exporter": "python",
   "pygments_lexer": "ipython3",
   "version": "3.7.6"
  }
 },
 "nbformat": 4,
 "nbformat_minor": 4
}
